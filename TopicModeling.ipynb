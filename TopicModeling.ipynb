{
 "cells": [
  {
   "cell_type": "markdown",
   "metadata": {},
   "source": [
    "# Topic Modeling (EM algorithm and Gibbs Sampling)\n",
    "\n",
    "## Probabilistic Latent Semantic Analysis with the EM Algorithm\n",
    "\n",
    "In this homework you will exercise your expertise on the EM algorithm and Gibbs sampling to apply it to Probabilistic Latent Semantic Analysis (pLSA) and Latent Dirichlet Allocation.\n",
    "\n",
    "### Part I: The pLSAModel\n",
    "\n",
    "Recall that our data model for pLSA will consist of a set of documents $D$, and each document is modeled as a bag of words over dictionary $W$, we denote $x_{w,d}$ as the number of times word $w \\in W$ appears in document $d \\in D$.\n",
    "\n",
    "#### Warmup: A simple multinomial model\n",
    "\n",
    "Before we introduce the concept of topics, let's build a simple model based on frequency of word occurences to get used to Maximum Likelihood Estimation for multinomial distributions. Specifically, letting $n_d$ be the number of words in document $d$, then we model each document $d$ as $n_d$ draws from a Multinomial distribution with parameters $\\theta_{1,d},\\ldots,\\theta_{W,d}$ with $\\theta_{w,d}$ the probability of drawing word $w$ in document $d$. Note that $\\theta_{w,d} \\geq 0$ for all $w \\in W$, and $\\sum_w \\theta_{w,d} = 1$.\n",
    "\n",
    "With this model in place, the probability of observing the set of words in document $d$ is given by\n",
    "\n",
    "$$\n",
    "Pr(d|\\theta_d) \\varpropto \\prod_{w=1}^{W} \\theta_{w,d}^{x_{w,d}}\n",
    "$$\n",
    "\n",
    "where $\\theta_d$ collects parameters $\\{\\theta_{1,d},\\ldots,\\theta_{W,d}\\}$.\n",
    "\n",
    "**Problem 1**: Prove that Maximum Likelihood Estimates (MLE) are given by \n",
    "\n",
    "$$\\hat{\\theta}_{w,d} = \\frac{x_{w,d}}{n_d}$$, \n",
    "\n",
    "that is, the number of times word $w$ appears in document $d$ divided by the total number of words in document $d$.\n",
    "\n",
    "_Hints_:\n",
    "\n",
    "- Write MLE estimation problem as a _constrained_ maximization problem\n",
    "\n",
    "- Write out the Lagrangian $L(\\theta_d,\\lambda, \\nu)$ (see lecture slides) for this maximization problem.\n",
    "\n",
    "- Use optimality conditions from lecture to solve"
   ]
  },
  {
   "cell_type": "markdown",
   "metadata": {},
   "source": [
    "**Problem 1 Answer**\n",
    "\n",
    "The log likelihood of the model is given by \n",
    "\n",
    "$$\n",
    "\\mathscr{L}(\\theta_d) = \\sum_{w=1}^W x_{w,d} \\log \\theta_{w,d}\n",
    "$$\n",
    "\n",
    "So, the MLE problem in standard form is\n",
    "\n",
    "\\begin{eqnarray}\n",
    "\\min_{\\theta_d} & -\\sum_{w=1}^W x_{w,d} \\log \\theta_{w,d} \\\\\n",
    "\\textrm{s.t.} & -\\theta_{w,d} \\leq 0 \\; \\forall w \\\\\n",
    "{} & \\sum_{w=1}^W \\theta_{w,d} = 1\n",
    "\\end{eqnarray}\n",
    "\n",
    "The Lagrangian of the problem is then\n",
    "\n",
    "$$\n",
    "L(\\theta_d, \\lambda, \\nu) = -\\sum_{w=1}^W x_{w,d} \\log \\theta_{w,d} + \\sum_{w,d} \\lambda_{w,d} (-\\theta_{w,d}) + \\nu(\\sum_{w=1}^W \\theta_{w,d} - 1)\n",
    "$$\n",
    "\n",
    "To solve, we use optimality conditions. First, the gradient of Lagrangian wrt to parameter should be zero:\n",
    "\n",
    "\\begin{eqnarray}\n",
    "\\frac{\\partial L}{\\partial \\theta_{w,d}} = \\frac{-x_{w,d}}{\\theta_{w,d}} - \\lambda_{w,d} + \\nu \\overset{\\mathrm{set}}{=} 0 & \\Rightarrow \\\\\n",
    "\\theta_{w,d} = \\frac{- x_{w,d}}{\\lambda_{w,d} - \\nu} & {}\n",
    "\\end{eqnarray}\n",
    "\n",
    "From complementarity and dual feasibility we can set $\\lambda_{w,d}=0$.\n",
    "\n",
    "From primal feasibility we have\n",
    "\n",
    "\\begin{eqnarray}\n",
    "\\sum_{w,d} \\theta_{w,d} = 1 & \\Rightarrow \\\\\n",
    "\\frac{\\sum_{w,d} x_{w,d}}{\\nu} = 1 & \\Rightarrow \\\\\n",
    "\\nu = \\sum_{w,d} x_{w,d} & \\Rightarrow \\\\\n",
    "\\nu = n_d & \\Rightarrow \\\\\n",
    "\\theta_{w,d} = \\frac{x_{w,d}}{n_d} & {}\n",
    "\\end{eqnarray}"
   ]
  },
  {
   "cell_type": "markdown",
   "metadata": {},
   "source": [
    "### A fully observed topic model\n",
    "\n",
    "Let's introduce topics now. Instead of modeling each document as $d \\sim \\mathrm{Mult}(\\{\\theta_{1,d},\\ldots,\\theta_{W,d}\\})$ over words, we model each document as a distribution over $T$ _topics_ as $d \\sim \\mathrm{Mult}(\\{p_{1,d},\\ldots,p_{T,d}\\})$. In turn, each topic $t=1,\\ldots,T$ is modeled as a distribution $t \\sim \\mathrm{Mult}(\\{\\theta_{1,t},\\ldots,\\theta_{W,t}\\})$ over words. Note that the topics are shared across documents in dataset.\n",
    "\n",
    "In pLSA, we learn topic distributions from observations by a soft assignment of each word occurence to topics using the EM algorithm. We will denote these _latent_ word-topic assignments as $\\Delta_{w,d,t}$ to represent the number of times word $w$ was assigned to topic $t$ in document $d$.\n",
    "\n",
    "Of course, we do not observe any of these latent word-topic assignments. However, it is helpful to think of the fully observed case to develop the EM algorithm. \n",
    "\n",
    "Assuming we observe word occurences $x_{w,d}$ and latent word-topic assignments $\\Delta_{w,d,t}$ such that $\\sum_t \\Delta_{w,d,t} = x_{w,d}$ the full data probability is given by\n",
    "\n",
    "$$\n",
    "\\mathrm{Pr}(D|\\{p_d\\},\\{\\theta_t\\}) = \\prod_{d=1}^D \\prod_{w=1}^{W} \\prod_{t=1}^T p_{t,d}^{\\Delta_{w,d,t}}\\theta_{w,t}^{\\Delta_{w,d,t}}\n",
    "$$\n",
    "\n",
    "\n",
    "\n",
    "**Problem 2**: Prove that MLEs are given by\n",
    "\n",
    "$$\n",
    "\\hat{p}_{t,d} = \\frac{\\sum_{w=1}^W \\Delta_{w,d,t}}{\\sum_{t=1}^T \\sum_{w=1}^W \\Delta_{w,d,t}}\n",
    "$$\n",
    "\n",
    "and\n",
    "\n",
    "$$\n",
    "\\hat{\\theta}_{w,t} = \\frac{\\sum_{d=1}^D \\Delta_{w,d,t}}{\\sum_{w=1}^W \\sum_{d=1}^D \\Delta_{w,d,t}}\n",
    "$$"
   ]
  },
  {
   "cell_type": "markdown",
   "metadata": {},
   "source": [
    "**Problem 2 Answer**\n",
    "\n",
    "The log likelihood of the model is given by \n",
    "\n",
    "$$\n",
    "\\mathscr{L}(\\theta_d) = \\sum_{d=1}^D\\sum_{w=1}^W \\sum_{t=1}^T \\Delta_{w,d,t} \\log p_{t,d} + \\Delta_{w,d,t} \\log \\theta_{w,t}\n",
    "$$\n",
    "\n",
    "So, the MLE problem in standard form is\n",
    "\n",
    "\\begin{eqnarray}\n",
    "\\min_{p_d,\\theta_t} & -\\sum_{d=1}^D\\sum_{w=1}^W\\sum_{t=1}^T \\Delta_{w,d,t} p_{t,d} + \\Delta_{w,d,t} \\log \\theta_{w,t} \\\\\n",
    "\\textrm{s.t.} & -p_{t,d} \\leq 0\\; \\forall t,d \\\\\n",
    "{} & -\\theta_{w,t} \\leq 0 \\; \\forall w,t \\\\\n",
    "{} & \\sum_{t=1}^T p_{t,d} = 1 \\; \\forall d \\\\\n",
    "{} & \\sum_{w=1}^W \\theta_{w,t} = 1 \\; \\forall t\n",
    "\\end{eqnarray}\n",
    "\n",
    "The Lagrangian of the problem is then\n",
    "\n",
    "$$\n",
    "L(p_{d},\\theta_{t}, \\lambda^p_d, \\lambda^{\\theta}_t, \\nu^d, \\nu^t) = -\\sum_{d=1}^D\\sum_{w=1}^W \\sum_{t=1}^T \\Delta_{w,d,t} \\log p_{t,d} + \\Delta_{w,d,t} \\log \\theta_{w,t} + \\sum_{t,d} \\lambda^p_{t,d} (-p_{t,d}) + \\sum_{w,t} \\lambda^{\\theta}_{w,t} (-\\theta_{w,t}) + \\sum_{d=1}^D \\nu^p_d(\\sum_{t=1}^T p_{t,d}) + \\sum_{t=1}^T \\nu^{\\theta}_t (\\sum_{w=1}^W \\theta_{w,t} - 1)\n",
    "$$\n",
    "To solve for $p_{t,d}$, we use optimality conditions. First, the gradient of Lagrangian wrt to parameter should be zero:\n",
    "\n",
    "\\begin{eqnarray}\n",
    "\\frac{\\partial L}{\\partial p{t,d}} = \\frac{-\\sum_{w=1}^W \\Delta_{w,d,t}}{p_{t,d}} - \\lambda^p_{t,d} + \\nu^p \\overset{\\mathrm{set}}{=} 0 & \\Rightarrow \\\\\n",
    "p_{t,d} = \\frac{- \\sum_{w=1}^W \\Delta_{w,d,t}}{\\lambda^p_{t,d} - \\nu^p_d} & {}\n",
    "\\end{eqnarray}\n",
    "\n",
    "From complementarity and dual feasibility we can set $\\lambda^p_{t,d}=0$.\n",
    "\n",
    "From primal feasibility we have\n",
    "\n",
    "\\begin{eqnarray}\n",
    "\\sum_{t} p_{t,d} = 1 & \\Rightarrow \\\\\n",
    "\\frac{\\sum_{t} \\sum_{w=1}^W \\Delta_{w,d,t}}{\\nu^p_d} = 1 & \\Rightarrow \\\\\n",
    "\\nu^p_d = \\sum_t \\sum_{w} \\Delta_{w,d,t} & \\Rightarrow \\\\\n",
    "p_{t,d} = \\frac{\\sum_w \\Delta_{w,d,t}}{\\sum_t \\sum_w \\Delta_{w,d,t}} & {}\n",
    "\\end{eqnarray}\n",
    "\n",
    "To solve for $\\theta_{w,t}$, we use optimality conditions. First, the gradient of Lagrangian wrt to parameter should be zero:\n",
    "\n",
    "\\begin{eqnarray}\n",
    "\\frac{\\partial L}{\\partial \\theta_{w,t}} = \\frac{- \\sum_d \\Delta_{w,d,t}}{\\theta_{w,t}} - \\lambda^{\\theta}_{w,t} + \\nu^{\\theta}_t \\overset{\\mathrm{set}}{=} 0 & \\Rightarrow \\\\\n",
    "\\theta_{w,t} = \\frac{- \\sum_d \\Delta_{w,d,t}}{\\lambda^{\\theta}_{w,t} - \\nu^{\\theta}_t} & {}\n",
    "\\end{eqnarray}\n",
    "\n",
    "From complementarity and dual feasibility we can set $\\lambda^{\\theta}_{w,t}=0$.\n",
    "\n",
    "From primal feasibility we have\n",
    "\n",
    "\\begin{eqnarray}\n",
    "\\sum_{w} \\theta_{w,t} = 1 & \\Rightarrow \\\\\n",
    "\\frac{\\sum_w \\sum_{d} \\Delta_{w,d,t}}{\\nu^{\\theta}_t} = 1 & \\Rightarrow \\\\\n",
    "\\nu^{\\theta}_t = \\sum_w \\sum_{d} \\Delta_{w,d,t} & \\Rightarrow \\\\\n",
    "\\theta_{w,t} = \\frac{\\sum_d \\Delta_{w,d,t}}{\\sum_w \\sum_d \\Delta_{w,d,t}} & {}\n",
    "\\end{eqnarray}\n"
   ]
  },
  {
   "cell_type": "markdown",
   "metadata": {},
   "source": [
    "## Part II: pLSA with EM Algorithm\n",
    "\n",
    "Denote the _responsibility_ of topic $t$ for the occurences of word $w$ in document $d$ as $\\gamma_{w,d,t}=E[\\Delta_{w,d,t}|\\{p_d\\},\\{\\theta_t\\}]$\n",
    "\n",
    "**Problem 3**: Write out the M-step for the EM algorithm based on the result of Problem 2\n"
   ]
  },
  {
   "cell_type": "markdown",
   "metadata": {},
   "source": [
    "**Problem 3 Answer**\n",
    "\n",
    "$$\n",
    "\\hat{p}_{t,d} = \\frac{\\sum_{w=1}^W \\gamma_{w,d,t}}{\\sum_{t=1}^T \\sum_{w=1}^W \\gamma_{w,d,t}}\n",
    "$$\n",
    "\n",
    "$$\n",
    "\\hat{\\theta}_{w,t} = \\frac{\\sum_{d=1}^D \\gamma_{w,d,t}}{\\sum_{w=1}^W \\sum_{d=1}^D \\gamma_{w,d,t}}\n",
    "$$"
   ]
  },
  {
   "cell_type": "markdown",
   "metadata": {},
   "source": [
    "**Problem 4**: Show that the E-step for the EM algorithm, i.e., the update $\\gamma_{d_j,t}$ given current set of parameters $\\{p_d\\}$ and $\\{\\theta_t\\}$ is given by\n",
    "\n",
    "$$\n",
    "\\gamma_{w,d,t} = x_{w,d} \\times \\frac{p_{t,d}\\theta_{w,t}}{\\sum_{t'=1}^T p_{t',d}\\theta_{w,t'}}\n",
    "$$"
   ]
  },
  {
   "cell_type": "markdown",
   "metadata": {},
   "source": [
    "**Problem 4 Answer**\n",
    "\n",
    "In the EM algorithm we set, and using Bayes Rule\n",
    "\n",
    "\\begin{eqnarray}\n",
    "\\gamma_{w,d,t} & = & E[\\Delta_{w,d,t} | w=W, d=D; p_{t,d}, \\theta_{w,t}] \\\\\n",
    "{} & = & x_{w,d} p(T=t|W=w,D=d; p_{t,d}, \\theta_{w,t}) \\\\\n",
    "{} & = & x_{w,d} \\frac{p(W=w|T=t;p_{t,d},\\theta_{w,t})p(T=t|D=d;p_{t,d})}{p(W=w|D=d;p_{t,d}\\theta_{w,t})} \\\\\n",
    "{} & = & x_{w,d} \\frac{p_{t,d}\\theta_{w,t}}{\\sum_{t'=1}^T p_{t',d}\\theta_{w,t'}}\n",
    "\\end{eqnarray}\n",
    "\n"
   ]
  },
  {
   "cell_type": "markdown",
   "metadata": {},
   "source": [
    "## Part III: Simulating data\n",
    "\n",
    "**Problem 5** Complete the data simulation data in file `topic_lib/simulation.py` See lecture notes on how to do this.\n"
   ]
  },
  {
   "cell_type": "code",
   "execution_count": 1,
   "metadata": {},
   "outputs": [],
   "source": [
    "%load_ext autoreload\n",
    "%autoreload 2"
   ]
  },
  {
   "cell_type": "code",
   "execution_count": 2,
   "metadata": {},
   "outputs": [],
   "source": [
    "import numpy as np\n",
    "from topic_lib.simulation import simulate_data\n",
    "\n",
    "# set simulation parameters\n",
    "num_docs = 20\n",
    "num_words = 100\n",
    "num_topics = 3\n",
    "num_words_per_doc = 20\n",
    "\n",
    "x, sim_delta, sim_p, sim_theta = simulate_data(num_words, num_docs, num_topics, num_words_per_doc)"
   ]
  },
  {
   "cell_type": "code",
   "execution_count": 3,
   "metadata": {},
   "outputs": [],
   "source": [
    "# let's run a few assertions to check your implementation\n",
    "\n",
    "# check the size of data matrix x\n",
    "assert(x.shape == (num_words, num_docs))\n",
    "\n",
    "# check that the total number of words in a document is correct\n",
    "assert(np.all(np.sum(x, axis=0) == num_words_per_doc))\n",
    "\n",
    "# check the size of simulated latent counts delta\n",
    "assert(sim_delta.shape == (num_words, num_docs, num_topics))\n",
    "\n",
    "# check that the sum of delta across topics equals the counts in data matrix x\n",
    "assert(np.allclose(np.sum(sim_delta, axis=2), x))\n",
    "\n",
    "# check the size of matrix p\n",
    "assert(sim_p.shape == (num_topics, num_docs))\n",
    "\n",
    "# check that p is normalized properly\n",
    "assert(np.allclose(np.sum(sim_p, axis=0), np.ones((num_docs))))\n",
    "\n",
    "# check the size of matrix theta\n",
    "assert(sim_theta.shape == (num_words, num_topics))\n",
    "\n",
    "# check that theta is normalized properly\n",
    "assert(np.allclose(np.sum(sim_theta, axis=0), np.ones((num_topics))))"
   ]
  },
  {
   "cell_type": "markdown",
   "metadata": {},
   "source": [
    "### Part IV: pLSA using EM\n",
    "\n",
    "Implement pLSA using the EM updates from problems 3 and 4.\n",
    "\n",
    "Notes:\n",
    "\n",
    "- For the pLSA topic model we set out here, the probability of the observed word-document occurences is given by mixture distribution\n",
    "\n",
    "$$\n",
    "Pr(D|\\{p_d\\},\\{\\theta_t\\}) = \n",
    "\\prod_{d=1}^D \\prod_{w=1}^W \\left( \\sum_{t=1}^T p_{t,d} \\theta_{w,t} \\right)^{x_{w,d}}\n",
    "$$\n",
    "\n",
    "- Complete the implementation in file `topic_lib/em.py`\n",
    "\n",
    "- You will need to initialize parameters $\\{p_d\\}$ and $\\{\\theta_t\\}$ (see lecture notes on the Dirichlet distribution)\n",
    "\n",
    "- You will need to test for convergence\n",
    "\n",
    "- You will need to deal with local minima (i.e, use multiple random initial points and choose the model that has largest likelihood).\n",
    "\n",
    "- test your function on the small simulation dataset, i.e., from the data you generate above\n"
   ]
  },
  {
   "cell_type": "code",
   "execution_count": 4,
   "metadata": {},
   "outputs": [],
   "source": [
    "from topic_lib.em import plsa_em\n",
    "\n",
    "p, theta, llik = plsa_em(x, num_topics=3, verbose=False)"
   ]
  },
  {
   "cell_type": "code",
   "execution_count": 5,
   "metadata": {},
   "outputs": [
    {
     "ename": "AssertionError",
     "evalue": "",
     "output_type": "error",
     "traceback": [
      "\u001b[0;31m---------------------------------------------------------------------------\u001b[0m",
      "\u001b[0;31mAssertionError\u001b[0m                            Traceback (most recent call last)",
      "\u001b[0;32m<ipython-input-5-c8437353ef9f>\u001b[0m in \u001b[0;36m<module>\u001b[0;34m\u001b[0m\n\u001b[1;32m      7\u001b[0m \u001b[0;34m\u001b[0m\u001b[0m\n\u001b[1;32m      8\u001b[0m \u001b[0;31m# make sure the p estimate is properly normalized\u001b[0m\u001b[0;34m\u001b[0m\u001b[0;34m\u001b[0m\u001b[0;34m\u001b[0m\u001b[0m\n\u001b[0;32m----> 9\u001b[0;31m \u001b[0;32massert\u001b[0m\u001b[0;34m(\u001b[0m\u001b[0mnp\u001b[0m\u001b[0;34m.\u001b[0m\u001b[0mallclose\u001b[0m\u001b[0;34m(\u001b[0m\u001b[0mnp\u001b[0m\u001b[0;34m.\u001b[0m\u001b[0msum\u001b[0m\u001b[0;34m(\u001b[0m\u001b[0mp\u001b[0m\u001b[0;34m,\u001b[0m \u001b[0maxis\u001b[0m\u001b[0;34m=\u001b[0m\u001b[0;36m0\u001b[0m\u001b[0;34m)\u001b[0m\u001b[0;34m,\u001b[0m \u001b[0mnp\u001b[0m\u001b[0;34m.\u001b[0m\u001b[0mones\u001b[0m\u001b[0;34m(\u001b[0m\u001b[0;34m(\u001b[0m\u001b[0mnum_docs\u001b[0m\u001b[0;34m)\u001b[0m\u001b[0;34m)\u001b[0m\u001b[0;34m)\u001b[0m\u001b[0;34m)\u001b[0m\u001b[0;34m\u001b[0m\u001b[0;34m\u001b[0m\u001b[0m\n\u001b[0m\u001b[1;32m     10\u001b[0m \u001b[0;31m# let's see if you got close to the simulation p\u001b[0m\u001b[0;34m\u001b[0m\u001b[0;34m\u001b[0m\u001b[0;34m\u001b[0m\u001b[0m\n\u001b[1;32m     11\u001b[0m \u001b[0;31m# we check it to see if you identify the \"important\" topic in each document\u001b[0m\u001b[0;34m\u001b[0m\u001b[0;34m\u001b[0m\u001b[0;34m\u001b[0m\u001b[0m\n",
      "\u001b[0;31mAssertionError\u001b[0m: "
     ]
    }
   ],
   "source": [
    "from topic_lib.simulation import compare_topics\n",
    "\n",
    "# let's run a few assertions to check your implementation\n",
    "\n",
    "# check the shape of the p estimate\n",
    "assert(p.shape == (num_topics, num_docs))\n",
    "\n",
    "# make sure the p estimate is properly normalized\n",
    "assert(np.allclose(np.sum(p, axis=0), np.ones((num_docs))))\n",
    "# let's see if you got close to the simulation p\n",
    "# we check it to see if you identify the \"important\" topic in each document\n",
    "# in the simulated p better than random chance\n",
    "topic_assignment = compare_topics(sim_theta, theta)\n",
    "print(topic_assignment)\n",
    "\n",
    "match_rate = np.mean(np.argmax(p[topic_assignment,:],axis=0) == np.argmax(sim_p,axis=0))\n",
    "print(\"Important topic in document match rate: {}\".format(match_rate))\n",
    "print(\"Important topic in document random match rate: {}\\n\".format(1. / num_topics))\n",
    "assert(match_rate > 1. / num_topics)\n",
    "\n",
    "# check the shape of the theta estimate\n",
    "assert(theta.shape == (num_words, num_topics))\n",
    "\n",
    "# make sure the theta estimate is properly normalized\n",
    "assert(np.allclose(np.sum(theta, axis=0), np.ones((num_topics))))\n",
    "\n",
    "# let's see if you get close to the simulation theta\n",
    "# we check it to see if you identify the \"important\" words\n",
    "# in each topic\n",
    "match_rates = np.zeros((num_topics))\n",
    "for t in range(num_topics):\n",
    "    imp_words_sim = np.argsort(sim_theta[:,t])[-5:]\n",
    "    imp_words = np.argsort(theta[:,topic_assignment[t]])[-5:]\n",
    "    match_rates[t] = sum([w in imp_words_sim for w in imp_words]) / 5\n",
    "    print(\"Important words in topic {} match rate: {}\".format(t, match_rates[t]))\n",
    "\n",
    "print(\"Important words in topic random match rate: {}\\n\".format(5. / num_words))\n",
    "assert(np.all(match_rates > 5. / num_words))\n",
    "\n",
    "# let's see how close you got to the log likelihood of the simulation parameters\n",
    "from topic_lib.em import get_loglik\n",
    "sim_ll = get_loglik(x, np.log(sim_p), np.log(sim_theta))\n",
    "est_ll = get_loglik(x, np.log(p), np.log(theta))\n",
    "print(\"Log likelihood for simulation parameters: {}\".format(sim_ll))\n",
    "print(\"Log likelhood of estimated parameters: {}\".format(est_ll))\n",
    "\n",
    "relative_dev = np.abs( sim_ll - est_ll ) / np.abs(sim_ll)\n",
    "print(\"Relative absolute deviation: {}\".format(relative_dev))\n",
    "assert(relative_dev < 0.1)"
   ]
  },
  {
   "cell_type": "markdown",
   "metadata": {},
   "source": [
    "## Part V: LDA with Gibbs Sampling\n",
    "\n",
    "Implement Latent Dirichlet Annotation with Gibbs Sampling. See lecture notes for details.\n",
    "\n",
    "Complete the implementation in file `topic_lib/gibbs.py`"
   ]
  },
  {
   "cell_type": "code",
   "execution_count": 6,
   "metadata": {},
   "outputs": [],
   "source": [
    "from topic_lib.gibbs import lda_gibbs\n",
    "\n",
    "p, theta = lda_gibbs(x, num_topics=3, verbose=False)"
   ]
  },
  {
   "cell_type": "code",
   "execution_count": 7,
   "metadata": {},
   "outputs": [
    {
     "ename": "AssertionError",
     "evalue": "",
     "output_type": "error",
     "traceback": [
      "\u001b[0;31m---------------------------------------------------------------------------\u001b[0m",
      "\u001b[0;31mAssertionError\u001b[0m                            Traceback (most recent call last)",
      "\u001b[0;32m<ipython-input-7-fbf93db57ac8>\u001b[0m in \u001b[0;36m<module>\u001b[0;34m\u001b[0m\n\u001b[1;32m      5\u001b[0m \u001b[0;34m\u001b[0m\u001b[0m\n\u001b[1;32m      6\u001b[0m \u001b[0;31m# make sure the p estimate is properly normalized\u001b[0m\u001b[0;34m\u001b[0m\u001b[0;34m\u001b[0m\u001b[0;34m\u001b[0m\u001b[0m\n\u001b[0;32m----> 7\u001b[0;31m \u001b[0;32massert\u001b[0m\u001b[0;34m(\u001b[0m\u001b[0mnp\u001b[0m\u001b[0;34m.\u001b[0m\u001b[0mallclose\u001b[0m\u001b[0;34m(\u001b[0m\u001b[0mnp\u001b[0m\u001b[0;34m.\u001b[0m\u001b[0msum\u001b[0m\u001b[0;34m(\u001b[0m\u001b[0mp\u001b[0m\u001b[0;34m,\u001b[0m \u001b[0maxis\u001b[0m\u001b[0;34m=\u001b[0m\u001b[0;36m0\u001b[0m\u001b[0;34m)\u001b[0m\u001b[0;34m,\u001b[0m \u001b[0mnp\u001b[0m\u001b[0;34m.\u001b[0m\u001b[0mones\u001b[0m\u001b[0;34m(\u001b[0m\u001b[0;34m(\u001b[0m\u001b[0mnum_docs\u001b[0m\u001b[0;34m)\u001b[0m\u001b[0;34m)\u001b[0m\u001b[0;34m)\u001b[0m\u001b[0;34m)\u001b[0m\u001b[0;34m\u001b[0m\u001b[0;34m\u001b[0m\u001b[0m\n\u001b[0m\u001b[1;32m      8\u001b[0m \u001b[0;34m\u001b[0m\u001b[0m\n\u001b[1;32m      9\u001b[0m \u001b[0;31m# let's see if you got close to the simulation p\u001b[0m\u001b[0;34m\u001b[0m\u001b[0;34m\u001b[0m\u001b[0;34m\u001b[0m\u001b[0m\n",
      "\u001b[0;31mAssertionError\u001b[0m: "
     ]
    }
   ],
   "source": [
    "# let's run a few assertions to check your implementation\n",
    "\n",
    "# check the shape of the p estimate\n",
    "assert(p.shape == (num_topics, num_docs))\n",
    "\n",
    "# make sure the p estimate is properly normalized\n",
    "assert(np.allclose(np.sum(p, axis=0), np.ones((num_docs))))\n",
    "\n",
    "# let's see if you got close to the simulation p\n",
    "# we check it to see if you identify the \"important\" topic in each document\n",
    "# in the simulated p better than random chance\n",
    "topic_assignment = compare_topics(sim_theta, theta)\n",
    "\n",
    "match_rate = np.mean(np.argmax(p[topic_assignment,:],axis=0) == np.argmax(sim_p,axis=0))\n",
    "print(\"Important topic in document match rate: {}\".format(match_rate))\n",
    "print(\"Important topic in document random match rate: {}\\n\".format(1. / num_topics))\n",
    "assert(match_rate > 1. / num_topics)\n",
    "\n",
    "# check the shape of the theta estimate\n",
    "assert(theta.shape == (num_words, num_topics))\n",
    "\n",
    "# make sure the theta estimate is properly normalized\n",
    "assert(np.allclose(np.sum(theta, axis=0), np.ones((num_topics))))\n",
    "\n",
    "# let's see if you get close to the simulation theta\n",
    "# we check it to see if you identify the \"important\" words\n",
    "# in each topic\n",
    "match_rates = np.zeros((num_topics))\n",
    "for t in range(num_topics):\n",
    "    imp_words_sim = np.argsort(sim_theta[:,t])[-5:]\n",
    "    imp_words = np.argsort(theta[:,topic_assignment[t]])[-5:]\n",
    "    match_rates[t] = sum([w in imp_words_sim for w in imp_words]) / 5\n",
    "    print(\"Important words in topic {} match rate: {}\".format(t, match_rates[t]))\n",
    "\n",
    "print(\"Important words in topic random match rate: {}\\n\".format(5. / num_words))\n",
    "assert(np.all(match_rates > 5. / num_words))\n",
    "\n",
    "# let's see how close you got to the log likelihood of the simulation parameters\n",
    "from topic_lib.em import get_loglik\n",
    "sim_ll = get_loglik(x, np.log(sim_p), np.log(sim_theta))\n",
    "est_ll = get_loglik(x, np.log(p), np.log(theta))\n",
    "print(\"Log likelihood for simulation parameters: {}\".format(sim_ll))\n",
    "print(\"Log likelhood of estimated parameters: {}\".format(est_ll))\n",
    "\n",
    "relative_dev = np.abs( sim_ll - est_ll ) / np.abs(sim_ll)\n",
    "print(\"Relative absolute deviation: {}\".format(relative_dev))\n",
    "assert(relative_dev < 0.1)"
   ]
  },
  {
   "cell_type": "markdown",
   "metadata": {},
   "source": [
    "## Part IV: Applying Methods\n",
    "\n",
    "Use your pLSA and LDA implementations to learn topics from the 20 newsgroups dataset. Utilities to\n",
    "download and prepare the dataset is provided in file `topic_lib/newsgroups.py`. To run the\n",
    "`get_docmat` function you will need to install packages gensim and nltk:\n",
    "\n",
    "```\n",
    "conda install -c anaconda gensim\n",
    "conda install -c anaconda nltk\n",
    "```\n",
    "\n",
    "Compare topics learned from pLSA and LDA with number of topics $T=8$\n",
    "\n",
    "To perform the comparison, print the top 5 words if each topic for each model (pLSA and LDA) (using function `get_topic_words` from file `topic_lib/newsgroups.py`.\n",
    "\n",
    "(a) Do the topics they each return sensible?  \n",
    "(b) Do the topics for one method make more sense than the other?\n"
   ]
  },
  {
   "cell_type": "code",
   "execution_count": 8,
   "metadata": {},
   "outputs": [
    {
     "name": "stdout",
     "output_type": "stream",
     "text": [
      "Did not find stored docmat file. Creating docmat...\n",
      "Creating directory  data\n",
      "[prep_nltk] Downloading wordnet...\n"
     ]
    },
    {
     "name": "stderr",
     "output_type": "stream",
     "text": [
      "[nltk_data] Downloading package wordnet to\n",
      "[nltk_data]     /Users/hcorrada/nltk_data...\n",
      "[nltk_data]   Package wordnet is already up-to-date!\n"
     ]
    },
    {
     "name": "stdout",
     "output_type": "stream",
     "text": [
      "Did not find stored processed docs file. Creating...\n",
      "Did not find dictionary object. Creating...\n",
      "Dictionary(1590 unique tokens: ['acceler', 'adapt', 'answer', 'base', 'brave']...)\n",
      "Did not find saved docmat file, generating...\n",
      "(1590, 1769)\n"
     ]
    }
   ],
   "source": [
    "from topic_lib.newsgroups import get_docmat\n",
    "\n",
    "newsgroups_mat = get_docmat()\n",
    "print(newsgroups_mat.shape)"
   ]
  },
  {
   "cell_type": "code",
   "execution_count": 9,
   "metadata": {},
   "outputs": [],
   "source": [
    "# run each of the methods \n",
    "# (modify num_restarts and max_iter here)\n",
    "em_p, em_theta, _ = plsa_em(newsgroups_mat, num_topics=8, num_restarts=1, max_iter=4)"
   ]
  },
  {
   "cell_type": "code",
   "execution_count": 10,
   "metadata": {},
   "outputs": [],
   "source": [
    "# modify num_rounds parameter here\n",
    "gibbs_p, gibbs_theta = lda_gibbs(newsgroups_mat, num_topics=8, num_rounds=10)"
   ]
  },
  {
   "cell_type": "code",
   "execution_count": 11,
   "metadata": {},
   "outputs": [
    {
     "name": "stdout",
     "output_type": "stream",
     "text": [
      "Dictionary(1590 unique tokens: ['acceler', 'adapt', 'answer', 'base', 'brave']...)\n",
      "['martin', 'leagu', 'king', 'johnson', 'writer']\n",
      "['martin', 'leagu', 'king', 'johnson', 'writer']\n",
      "['martin', 'leagu', 'king', 'johnson', 'writer']\n",
      "['martin', 'leagu', 'king', 'johnson', 'writer']\n",
      "['martin', 'leagu', 'king', 'johnson', 'writer']\n",
      "['martin', 'leagu', 'king', 'johnson', 'writer']\n",
      "['martin', 'leagu', 'king', 'johnson', 'writer']\n",
      "['martin', 'leagu', 'king', 'johnson', 'writer']\n"
     ]
    }
   ],
   "source": [
    "from topic_lib.newsgroups import print_important_words\n",
    "\n",
    "# print important words from EM estimate\n",
    "print_important_words(em_theta)"
   ]
  },
  {
   "cell_type": "code",
   "execution_count": 12,
   "metadata": {},
   "outputs": [
    {
     "name": "stdout",
     "output_type": "stream",
     "text": [
      "Dictionary(1590 unique tokens: ['acceler', 'adapt', 'answer', 'base', 'brave']...)\n",
      "['martin', 'leagu', 'king', 'johnson', 'writer']\n",
      "['martin', 'leagu', 'king', 'johnson', 'writer']\n",
      "['martin', 'leagu', 'king', 'johnson', 'writer']\n",
      "['martin', 'leagu', 'king', 'johnson', 'writer']\n",
      "['martin', 'leagu', 'king', 'johnson', 'writer']\n",
      "['martin', 'leagu', 'king', 'johnson', 'writer']\n",
      "['martin', 'leagu', 'king', 'johnson', 'writer']\n",
      "['martin', 'leagu', 'king', 'johnson', 'writer']\n"
     ]
    }
   ],
   "source": [
    "# print important words from Gibbs estimates\n",
    "print_important_words(gibbs_theta)"
   ]
  },
  {
   "cell_type": "markdown",
   "metadata": {},
   "source": [
    "**Answer questions (a) and (b) here**"
   ]
  },
  {
   "cell_type": "code",
   "execution_count": null,
   "metadata": {},
   "outputs": [],
   "source": []
  }
 ],
 "metadata": {
  "kernelspec": {
   "display_name": "Python 3",
   "language": "python",
   "name": "python3"
  },
  "language_info": {
   "codemirror_mode": {
    "name": "ipython",
    "version": 3
   },
   "file_extension": ".py",
   "mimetype": "text/x-python",
   "name": "python",
   "nbconvert_exporter": "python",
   "pygments_lexer": "ipython3",
   "version": "3.8.2"
  }
 },
 "nbformat": 4,
 "nbformat_minor": 4
}
